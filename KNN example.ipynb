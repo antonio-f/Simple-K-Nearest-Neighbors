{
 "cells": [
  {
   "cell_type": "markdown",
   "metadata": {},
   "source": [
    "#  Simple K-Nearest Neighbors using partial sort"
   ]
  },
  {
   "cell_type": "markdown",
   "metadata": {},
   "source": [
    "Sometimes we are re not interested in sorting an entire array but simply want to find its K smallest values. NumPy provides the `np.partition` function for that. `np.partition` takes an array and a number K an returns a new array with the smallest K+1 values to the left of the partition, and the remaining values to the right, in **arbitrary** order:"
   ]
  },
  {
   "cell_type": "code",
   "execution_count": 1,
   "metadata": {},
   "outputs": [
    {
     "data": {
      "text/plain": [
       "array([1, 2, 4, 7, 5, 6, 3])"
      ]
     },
     "execution_count": 1,
     "metadata": {},
     "output_type": "execute_result"
    }
   ],
   "source": [
    "import numpy as np\n",
    "\n",
    "x = np.array([7, 2, 4, 1, 5, 6, 3])\n",
    "np.partition(x, 3)"
   ]
  },
  {
   "cell_type": "markdown",
   "metadata": {},
   "source": [
    "Note that the first 4 entries are the smallest (1,2,3 and 4) but they are in arbitrary order. Analogously we can partially order matrices rows or columns."
   ]
  },
  {
   "cell_type": "code",
   "execution_count": 2,
   "metadata": {},
   "outputs": [
    {
     "data": {
      "text/plain": [
       "array([[5, 0, 3, 3, 7, 9],\n",
       "       [3, 5, 2, 4, 7, 6],\n",
       "       [8, 8, 1, 6, 7, 7],\n",
       "       [8, 1, 5, 9, 8, 9]])"
      ]
     },
     "execution_count": 2,
     "metadata": {},
     "output_type": "execute_result"
    }
   ],
   "source": [
    "rand = np.random.RandomState(0)\n",
    "X = rand.randint(0, 10, (4, 6))\n",
    "X"
   ]
  },
  {
   "cell_type": "code",
   "execution_count": 3,
   "metadata": {
    "scrolled": true
   },
   "outputs": [
    {
     "data": {
      "text/plain": [
       "array([[0, 3, 5, 3, 7, 9],\n",
       "       [2, 3, 5, 4, 7, 6],\n",
       "       [1, 6, 8, 8, 7, 7],\n",
       "       [1, 5, 8, 9, 8, 9]])"
      ]
     },
     "execution_count": 3,
     "metadata": {},
     "output_type": "execute_result"
    }
   ],
   "source": [
    "np.partition(X, 1, axis=1)"
   ]
  },
  {
   "cell_type": "markdown",
   "metadata": {},
   "source": [
    "Note that the rows are ordered such that the first two entries (of each row) represent the smallest values.\n",
    "\n",
    "Just as there is a `np.argsort` that computes indices of the sort, there is a `np.argpartition` that computes indices of the partition. "
   ]
  },
  {
   "cell_type": "markdown",
   "metadata": {},
   "source": [
    "## Example: K-Nearest Neighbors\n",
    "\n",
    "Let's see how we might use these `argsort` and `argpartition` functions to find the nearest neighbors of each point in a set. We'll create a random set of 10 points on a plane.\n",
    "We'll arrange these points in a $10\\times 2$ array:"
   ]
  },
  {
   "cell_type": "code",
   "execution_count": 4,
   "metadata": {
    "scrolled": true
   },
   "outputs": [
    {
     "data": {
      "text/plain": [
       "array([[0.64817187, 0.36824154],\n",
       "       [0.95715516, 0.14035078],\n",
       "       [0.87008726, 0.47360805],\n",
       "       [0.80091075, 0.52047748],\n",
       "       [0.67887953, 0.72063265],\n",
       "       [0.58201979, 0.53737323],\n",
       "       [0.75861562, 0.10590761],\n",
       "       [0.47360042, 0.18633234],\n",
       "       [0.73691818, 0.21655035],\n",
       "       [0.13521817, 0.32414101]])"
      ]
     },
     "execution_count": 4,
     "metadata": {},
     "output_type": "execute_result"
    }
   ],
   "source": [
    "X = rand.rand(10, 2)\n",
    "X"
   ]
  },
  {
   "cell_type": "code",
   "execution_count": 5,
   "metadata": {
    "scrolled": true
   },
   "outputs": [
    {
     "data": {
      "text/plain": [
       "array([1.01641341, 1.09750594, 1.3436953 , 1.32138823, 1.39951218,\n",
       "       1.11939302, 0.86452323, 0.65993276, 0.95346853, 0.45935918])"
      ]
     },
     "execution_count": 5,
     "metadata": {},
     "output_type": "execute_result"
    }
   ],
   "source": [
    "np.sum(X,1)"
   ]
  },
  {
   "cell_type": "markdown",
   "metadata": {},
   "source": [
    "Let's plot the points."
   ]
  },
  {
   "cell_type": "code",
   "execution_count": 6,
   "metadata": {
    "scrolled": false
   },
   "outputs": [
    {
     "data": {
      "image/png": "[encoded data removed]",
      "text/plain": [
       "<Figure size 432x288 with 1 Axes>"
      ]
     },
     "metadata": {},
     "output_type": "display_data"
    }
   ],
   "source": [
    "%matplotlib inline\n",
    "import matplotlib.pyplot as plt\n",
    "import seaborn; seaborn.set() # Plot styling\n",
    "\n",
    "plt.scatter(X[:, 0], X[:, 1]);"
   ]
  },
  {
   "cell_type": "markdown",
   "metadata": {},
   "source": [
    "We'll compute the distance between each pair of points. To do that, recall that the squared-distance between two points is the sum of the squared differences in each dimension. Using NumPy [broadcasting](https://docs.scipy.org/doc/numpy/user/basics.broadcasting.html) and aggregation routines we can compute the matrix of square distances in a single line of code:"
   ]
  },
  {
   "cell_type": "code",
   "execution_count": 7,
   "metadata": {},
   "outputs": [],
   "source": [
    "dist_sq = np.sum((X[:, None, :] - X[None, :, :]) ** 2, axis=-1)"
   ]
  },
  {
   "cell_type": "markdown",
   "metadata": {},
   "source": [
    "Here `None` is exactly the same as `np.newaxis`. Let's visualize each single operand."
   ]
  },
  {
   "cell_type": "code",
   "execution_count": 8,
   "metadata": {},
   "outputs": [
    {
     "name": "stdout",
     "output_type": "stream",
     "text": [
      "(10, 2)\n"
     ]
    },
    {
     "data": {
      "text/plain": [
       "array([[0.64817187, 0.36824154],\n",
       "       [0.95715516, 0.14035078],\n",
       "       [0.87008726, 0.47360805],\n",
       "       [0.80091075, 0.52047748],\n",
       "       [0.67887953, 0.72063265],\n",
       "       [0.58201979, 0.53737323],\n",
       "       [0.75861562, 0.10590761],\n",
       "       [0.47360042, 0.18633234],\n",
       "       [0.73691818, 0.21655035],\n",
       "       [0.13521817, 0.32414101]])"
      ]
     },
     "execution_count": 8,
     "metadata": {},
     "output_type": "execute_result"
    }
   ],
   "source": [
    "print(X.shape)\n",
    "X"
   ]
  },
  {
   "cell_type": "code",
   "execution_count": 9,
   "metadata": {
    "scrolled": false
   },
   "outputs": [
    {
     "data": {
      "text/plain": [
       "array([[[0.64817187, 0.36824154]],\n",
       "\n",
       "       [[0.95715516, 0.14035078]],\n",
       "\n",
       "       [[0.87008726, 0.47360805]],\n",
       "\n",
       "       [[0.80091075, 0.52047748]],\n",
       "\n",
       "       [[0.67887953, 0.72063265]],\n",
       "\n",
       "       [[0.58201979, 0.53737323]],\n",
       "\n",
       "       [[0.75861562, 0.10590761]],\n",
       "\n",
       "       [[0.47360042, 0.18633234]],\n",
       "\n",
       "       [[0.73691818, 0.21655035]],\n",
       "\n",
       "       [[0.13521817, 0.32414101]]])"
      ]
     },
     "execution_count": 9,
     "metadata": {},
     "output_type": "execute_result"
    }
   ],
   "source": [
    "X[:, None, :]"
   ]
  },
  {
   "cell_type": "code",
   "execution_count": 10,
   "metadata": {},
   "outputs": [
    {
     "data": {
      "text/plain": [
       "(10, 1, 2)"
      ]
     },
     "execution_count": 10,
     "metadata": {},
     "output_type": "execute_result"
    }
   ],
   "source": [
    "X[:, None, :].shape"
   ]
  },
  {
   "cell_type": "markdown",
   "metadata": {},
   "source": [
    "Think of `X[:, None, :]` as a column vector containing the 10 pairs."
   ]
  },
  {
   "cell_type": "code",
   "execution_count": 11,
   "metadata": {},
   "outputs": [
    {
     "data": {
      "text/plain": [
       "array([[[0.64817187, 0.36824154],\n",
       "        [0.95715516, 0.14035078],\n",
       "        [0.87008726, 0.47360805],\n",
       "        [0.80091075, 0.52047748],\n",
       "        [0.67887953, 0.72063265],\n",
       "        [0.58201979, 0.53737323],\n",
       "        [0.75861562, 0.10590761],\n",
       "        [0.47360042, 0.18633234],\n",
       "        [0.73691818, 0.21655035],\n",
       "        [0.13521817, 0.32414101]]])"
      ]
     },
     "execution_count": 11,
     "metadata": {},
     "output_type": "execute_result"
    }
   ],
   "source": [
    "X[None, :, :]"
   ]
  },
  {
   "cell_type": "code",
   "execution_count": 12,
   "metadata": {},
   "outputs": [
    {
     "data": {
      "text/plain": [
       "(1, 10, 2)"
      ]
     },
     "execution_count": 12,
     "metadata": {},
     "output_type": "execute_result"
    }
   ],
   "source": [
    "X[None, :, :].shape"
   ]
  },
  {
   "cell_type": "markdown",
   "metadata": {},
   "source": [
    "Think of `X[None, :, :]` as a 1x1 row vector containing the $10 \\times 2$ point matrix X. When evaluating the difference\n",
    "\n",
    " `X[:, None, :] - X[None, :, :]` \n",
    "\n",
    "it happens that, for each pair $p$ in the first operand (the 10 pairs column vector), $p-q$ is performed with respect to each row $q$ of the matrix X. This way one obtains a matrix for each $p$, i.e. a collection of 10 matrices. Then we take the square entry-wise and finally sum along the axis #2 (equivalently denoted with -1), that is along the rows of the inner matrices. For real, it's easier to see than to describe! \n",
    "\n",
    "Let's show the squared distances:"
   ]
  },
  {
   "cell_type": "code",
   "execution_count": 13,
   "metadata": {},
   "outputs": [
    {
     "data": {
      "text/plain": [
       "array([[0.        , 0.14740487, 0.06034854, 0.04650495, 0.12512246,\n",
       "        0.03298163, 0.08101691, 0.06356615, 0.03088612, 0.26506635],\n",
       "       [0.14740487, 0.        , 0.11864122, 0.16890862, 0.41416438,\n",
       "        0.29835337, 0.04060428, 0.23593949, 0.0543107 , 0.70935926],\n",
       "       [0.06034854, 0.11864122, 0.        , 0.00698213, 0.09758155,\n",
       "        0.08704886, 0.14762954, 0.23972914, 0.08381266, 0.56237297],\n",
       "       [0.04650495, 0.16890862, 0.00698213, 0.        , 0.05495371,\n",
       "        0.04819872, 0.17365706, 0.21878503, 0.09646675, 0.48169462],\n",
       "       [0.12512246, 0.41416438, 0.09758155, 0.05495371, 0.        ,\n",
       "        0.04296583, 0.38424473, 0.32761634, 0.25746745, 0.4527733 ],\n",
       "       [0.03298163, 0.29835337, 0.08704886, 0.04819872, 0.04296583,\n",
       "        0.        , 0.21734867, 0.13498446, 0.12692083, 0.24509967],\n",
       "       [0.08101691, 0.04060428, 0.14762954, 0.17365706, 0.38424473,\n",
       "        0.21734867, 0.        , 0.08770181, 0.0127126 , 0.4362502 ],\n",
       "       [0.06356615, 0.23593949, 0.23972914, 0.21878503, 0.32761634,\n",
       "        0.13498446, 0.08770181, 0.        , 0.07024937, 0.13349377],\n",
       "       [0.03088612, 0.0543107 , 0.08381266, 0.09646675, 0.25746745,\n",
       "        0.12692083, 0.0127126 , 0.07024937, 0.        , 0.37361864],\n",
       "       [0.26506635, 0.70935926, 0.56237297, 0.48169462, 0.4527733 ,\n",
       "        0.24509967, 0.4362502 , 0.13349377, 0.37361864, 0.        ]])"
      ]
     },
     "execution_count": 13,
     "metadata": {},
     "output_type": "execute_result"
    }
   ],
   "source": [
    "dist_sq"
   ]
  },
  {
   "cell_type": "markdown",
   "metadata": {},
   "source": [
    "All this might be a bit confusing if you're unfamiliar with NumPy's broadcasting rules. Just to double-check what we are doing, we should see that the diagonal of this matrix (i.e., the set of distances between each point and itself) is all zero:"
   ]
  },
  {
   "cell_type": "code",
   "execution_count": 14,
   "metadata": {},
   "outputs": [
    {
     "data": {
      "text/plain": [
       "array([0., 0., 0., 0., 0., 0., 0., 0., 0., 0.])"
      ]
     },
     "execution_count": 14,
     "metadata": {},
     "output_type": "execute_result"
    }
   ],
   "source": [
    "dist_sq.diagonal()"
   ]
  },
  {
   "cell_type": "markdown",
   "metadata": {},
   "source": [
    "Now that we have the pairwise square-distances, we can use ``np.argsort`` to sort along each row. The leftmost columns will then give the indices of the nearest neighbors:"
   ]
  },
  {
   "cell_type": "code",
   "execution_count": 15,
   "metadata": {},
   "outputs": [
    {
     "name": "stdout",
     "output_type": "stream",
     "text": [
      "[[0 8 5 3 2 7 6 4 1 9]\n",
      " [1 6 8 2 0 3 7 5 4 9]\n",
      " [2 3 0 8 5 4 1 6 7 9]\n",
      " [3 2 0 5 4 8 1 6 7 9]\n",
      " [4 5 3 2 0 8 7 6 1 9]\n",
      " [5 0 4 3 2 8 7 6 9 1]\n",
      " [6 8 1 0 7 2 3 5 4 9]\n",
      " [7 0 8 6 9 5 3 1 2 4]\n",
      " [8 6 0 1 7 2 3 5 4 9]\n",
      " [9 7 5 0 8 6 4 3 2 1]]\n"
     ]
    }
   ],
   "source": [
    "nearest = np.argsort(dist_sq, axis=1)\n",
    "print(nearest)"
   ]
  },
  {
   "cell_type": "markdown",
   "metadata": {},
   "source": [
    "The first column gives the numbers 0 through 9 in order: it's normal and it is due to the fact that the closest neighbor of a point is the point itself, as we would expect.\n",
    "\n",
    "We used a full sort here... but we have actually done more work than needed. To determine the nearest $K$ neighbors, all we need is to partition each row so that the smallest $K + 1$ squared distances come first. The larger distances will fill the remaining positions of the array. This can be accomplished using the `np.argpartition` function:"
   ]
  },
  {
   "cell_type": "code",
   "execution_count": 16,
   "metadata": {},
   "outputs": [],
   "source": [
    "K = 2\n",
    "nearest_partition = np.argpartition(dist_sq, K + 1, axis=1)"
   ]
  },
  {
   "cell_type": "markdown",
   "metadata": {},
   "source": [
    "Let's plot the points along with lines representing the connections from each point to its two nearest neighbors:"
   ]
  },
  {
   "cell_type": "code",
   "execution_count": 17,
   "metadata": {
    "scrolled": true
   },
   "outputs": [
    {
     "data": {
      "image/png": "[encoded data removed]",
      "text/plain": [
       "<Figure size 432x288 with 1 Axes>"
      ]
     },
     "metadata": {
      "needs_background": "light"
     },
     "output_type": "display_data"
    }
   ],
   "source": [
    "plt.scatter(X[:, 0], X[:, 1])\n",
    "\n",
    "# draw lines from each point to its two nearest neighbors\n",
    "K = 2\n",
    "\n",
    "for i in range(X.shape[0]):\n",
    "    for j in nearest_partition[i, :K+1]:\n",
    "        # plot a line from X[i] to X[j]\n",
    "        # use some zip magic to make it happen:\n",
    "        plt.plot(*zip(X[j], X[i]), color=\"#505050\") # the asterisk \"*\" is used to unpack data from zip construct"
   ]
  },
  {
   "cell_type": "markdown",
   "metadata": {},
   "source": [
    "Each point in the plot has lines drawn to its two nearest neighbors.\n",
    "At first glance, it might seem strange that some of the points have more than two lines coming out of them: this is due to the fact that if point A is one of the two nearest neighbors of point B, this does not necessarily imply that point B is one of the two nearest neighbors of point A.\n",
    "\n",
    "This code is written in a way that is invariant with respect to the size of the input data: we could just as easily compute the neighbors among 100 or 1,000,000 points in any number of dimensions, and the code would look the same."
   ]
  }
 ],
 "metadata": {
  "kernelspec": {
   "display_name": "Python 3",
   "language": "python",
   "name": "python3"
  },
  "language_info": {
   "codemirror_mode": {
    "name": "ipython",
    "version": 3
   },
   "file_extension": ".py",
   "mimetype": "text/x-python",
   "name": "python",
   "nbconvert_exporter": "python",
   "pygments_lexer": "ipython3",
   "version": "3.6.8"
  }
 },
 "nbformat": 4,
 "nbformat_minor": 2
}
